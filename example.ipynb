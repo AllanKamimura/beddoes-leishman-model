{
  "nbformat": 4,
  "nbformat_minor": 0,
  "metadata": {
    "colab": {
      "provenance": [],
      "authorship_tag": "ABX9TyO+UG8lcn4cdnqUeJoToZF7",
      "include_colab_link": true
    },
    "kernelspec": {
      "name": "python3",
      "display_name": "Python 3"
    },
    "language_info": {
      "name": "python"
    },
    "gpuClass": "standard"
  },
  "cells": [
    {
      "cell_type": "markdown",
      "metadata": {
        "id": "view-in-github",
        "colab_type": "text"
      },
      "source": [
        "<a href=\"https://colab.research.google.com/github/AllanKamimura/beddoes-leishman-model/blob/main/example.ipynb\" target=\"_parent\"><img src=\"https://colab.research.google.com/assets/colab-badge.svg\" alt=\"Open In Colab\"/></a>"
      ]
    },
    {
      "cell_type": "code",
      "source": [
        "!git clone https://github.com/AllanKamimura/beddoes-leishman-model\n",
        "!chmod 777 /content/beddoes-leishman-model/setup_simple.sh\n",
        "%cd /content/beddoes-leishman-model\n",
        "!/content/beddoes-leishman-model/setup_simple.sh"
      ],
      "metadata": {
        "id": "TozrOexrfhAx"
      },
      "execution_count": null,
      "outputs": []
    },
    {
      "cell_type": "code",
      "source": [
        "!julia /content/beddoes-leishman-model/main.jl"
      ],
      "metadata": {
        "id": "pZ-9H2MwfkYQ"
      },
      "execution_count": null,
      "outputs": []
    },
    {
      "cell_type": "code",
      "source": [
        "from PIL import Image\n",
        "\n",
        "Image.open(\"./10022.png\")"
      ],
      "metadata": {
        "id": "rf4f-Y-Rfw9Y"
      },
      "execution_count": null,
      "outputs": []
    }
  ]
}